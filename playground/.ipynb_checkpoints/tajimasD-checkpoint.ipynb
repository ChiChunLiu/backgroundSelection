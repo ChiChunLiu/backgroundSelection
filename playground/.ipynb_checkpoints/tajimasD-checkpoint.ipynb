{
 "cells": [
  {
   "cell_type": "markdown",
   "metadata": {},
   "source": [
    "### Playground notebook for exploring parameters leading to negative and positive Tajimas D"
   ]
  },
  {
   "cell_type": "code",
   "execution_count": 1,
   "metadata": {},
   "outputs": [],
   "source": [
    "import subprocess, msprime, pyslim, tskit, os, matplotlib, pickle, random, dadi\n",
    "import matplotlib.pyplot as plt\n",
    "import matplotlib.cm as cm\n",
    "import matplotlib.colors as mcol\n",
    "import numpy as np\n",
    "import pandas as pd\n",
    "import dadi.DFE as DFE\n",
    "from dadi.DFE import *\n",
    "from scipy import stats\n",
    "from dadi import *\n",
    "from scipy.stats import norm"
   ]
  },
  {
   "cell_type": "code",
   "execution_count": 3,
   "metadata": {},
   "outputs": [],
   "source": [
    "os.chdir('/project2/jnovembre/ccliu/backgroundSelection')"
   ]
  },
  {
   "cell_type": "code",
   "execution_count": 7,
   "metadata": {},
   "outputs": [
    {
     "data": {
      "text/plain": [
       "array(-1.18880586)"
      ]
     },
     "execution_count": 7,
     "metadata": {},
     "output_type": "execute_result"
    }
   ],
   "source": [
    "i = 1 \n",
    "ts_file = f'data/slim/bgs_3classes_noneq/bgs_3classes_bottleneck_N500rep{i}.trees'\n",
    "ts_full = pyslim.load(ts_file).simplify()\n",
    "ts_full.Tajimas_D(mode = 'branch')"
   ]
  }
 ],
 "metadata": {
  "kernelspec": {
   "display_name": "Python 3",
   "language": "python",
   "name": "python3"
  },
  "language_info": {
   "codemirror_mode": {
    "name": "ipython",
    "version": 3
   },
   "file_extension": ".py",
   "mimetype": "text/x-python",
   "name": "python",
   "nbconvert_exporter": "python",
   "pygments_lexer": "ipython3",
   "version": "3.8.3"
  }
 },
 "nbformat": 4,
 "nbformat_minor": 4
}
