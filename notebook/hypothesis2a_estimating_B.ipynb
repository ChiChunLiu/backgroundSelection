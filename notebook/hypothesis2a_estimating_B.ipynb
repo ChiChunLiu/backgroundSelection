{
 "cells": [
  {
   "cell_type": "code",
   "execution_count": 11,
   "metadata": {},
   "outputs": [],
   "source": [
    "import subprocess, msprime, pyslim, tskit, os, matplotlib\n",
    "from scipy.integrate import quad\n",
    "from matplotlib import pyplot as plt\n",
    "import numpy as np\n",
    "import itertools"
   ]
  },
  {
   "cell_type": "code",
   "execution_count": 12,
   "metadata": {},
   "outputs": [],
   "source": [
    "os.chdir('/project2/jnovembre/ccliu/backgroundSelection/')"
   ]
  },
  {
   "cell_type": "code",
   "execution_count": 13,
   "metadata": {},
   "outputs": [],
   "source": [
    "def allele_counts(ts, sample_sets=None):\n",
    "    if sample_sets is None:\n",
    "        sample_sets = [ts.samples()]\n",
    "    def f(x):\n",
    "        return x\n",
    "    return ts.sample_count_stat(sample_sets, f, len(sample_sets),\n",
    "               span_normalise=False, windows='sites',\n",
    "               polarised=True, mode='site', strict=False)\n",
    "\n",
    "\n",
    "def get_afss(ts_file, sample_size = None):\n",
    "    if sample_size:\n",
    "        ts = pyslim.load(ts_file).simplify()\n",
    "        keep_indivs = np.random.choice(ts.individuals_alive_at(0), \n",
    "                                       sample_size, replace=False)\n",
    "        keep_nodes = []\n",
    "        for i in keep_indivs:\n",
    "            keep_nodes.extend(ts.individual(i).nodes)\n",
    "        ts = ts.simplify(keep_nodes)\n",
    "        #print(ts.pairwise_diversity())\n",
    "\n",
    "    mut_type = np.zeros(ts.num_sites)\n",
    "    for j, s in enumerate(ts.sites()):\n",
    "        mt = []\n",
    "        for m in s.mutations:\n",
    "            for md in m.metadata:\n",
    "                mt.append(md.mutation_type)\n",
    "        if len(set(mt)) > 1:\n",
    "            mut_type[j] = 4\n",
    "        else:\n",
    "            mut_type[j] = mt[0]\n",
    "\n",
    "    freqs = allele_counts(ts)\n",
    "    l = len(ts.samples())\n",
    "    freqs = freqs.flatten().astype(int)\n",
    "    mut_afs = np.zeros((l + 1, 4), dtype='int64')\n",
    "    for k in range(4):\n",
    "        mut_afs[:, k] = np.bincount(freqs[mut_type == k+1], \n",
    "                                    minlength=l + 1)\n",
    "    \n",
    "    return mut_afs[1:(2 * sample_size),:]\n",
    "\n",
    "\n",
    "def theta_pi(sfs):\n",
    "    n = len(sfs)\n",
    "    num = (np.array(range(1, n + 1)) * np.array(range(n, 0, -1)) * sfs).sum()\n",
    "    denum = n * (n + 1) / 2\n",
    "    pi = num / denum\n",
    "    return pi\n",
    "\n",
    "def compute_diversity(ts_file):\n",
    "    ts = pyslim.load(ts_file).simplify()\n",
    "    return ts.pairwise_diversity()"
   ]
  },
  {
   "cell_type": "code",
   "execution_count": 14,
   "metadata": {},
   "outputs": [
    {
     "name": "stdout",
     "output_type": "stream",
     "text": [
      "Ne x s =  183.9397205857212\n",
      "B =  0.3678794411714424\n"
     ]
    }
   ],
   "source": [
    "Ne = 5000\n",
    "mu = 1e-7\n",
    "l = 5e5\n",
    "Ud = mu * l\n",
    "Un = mu * 5 * l\n",
    "\n",
    "theta = 4 * Ne * Un \n",
    "s = -0.1\n",
    "B = np.exp(Ud / s * 2)\n",
    "print(f'Ne x s =  {- Ne * B * s}')\n",
    "print(f'B =  {B}')"
   ]
  },
  {
   "cell_type": "markdown",
   "metadata": {},
   "source": [
    "## Estimate using SFS (pairwise-diversity)"
   ]
  },
  {
   "cell_type": "code",
   "execution_count": 15,
   "metadata": {},
   "outputs": [
    {
     "data": {
      "text/plain": [
       "5000.0"
      ]
     },
     "execution_count": 15,
     "metadata": {},
     "output_type": "execute_result"
    }
   ],
   "source": [
    "theta"
   ]
  },
  {
   "cell_type": "code",
   "execution_count": 41,
   "metadata": {},
   "outputs": [],
   "source": [
    "pis = []\n",
    "for i in range(1, 101):\n",
    "    ts_file = f'data/slim/bgs_Bscore/bgs_BscoreN5000_rep{i}.trees'\n",
    "    afss = get_afss(ts_file, 500)\n",
    "    pis.append(theta_pi(afss[:,1]))\n",
    "B_theta = np.array(pis).mean() / theta\n",
    "std_B_theta = np.array(pis).std() / theta"
   ]
  },
  {
   "cell_type": "code",
   "execution_count": 42,
   "metadata": {},
   "outputs": [
    {
     "name": "stdout",
     "output_type": "stream",
     "text": [
      "0.3505923188388388\n",
      "0.16555080969215055\n"
     ]
    }
   ],
   "source": [
    "print(B_theta)\n",
    "print(std_B_theta)"
   ]
  },
  {
   "cell_type": "markdown",
   "metadata": {},
   "source": [
    "## Estimate using pairwise-coalescent time"
   ]
  },
  {
   "cell_type": "code",
   "execution_count": 26,
   "metadata": {},
   "outputs": [],
   "source": [
    "def avg_coal_time(tree):  \n",
    "    '''\n",
    "    Another idea for computing pairwise-coalescent time \n",
    "    from Xinyi Li; not used here\n",
    "    '''\n",
    "    coalescence_time = 0\n",
    "    sample_size = tree.get_sample_size()\n",
    "    for leaves in np.arange(sample_size+1):\n",
    "        u = leaves\n",
    "        while u != tskit.NULL:\n",
    "            visited = np.array([])\n",
    "            u = tree.parent(u)\n",
    "            if u !=-1 : \n",
    "                node_children = np.array(tree.children(u))\n",
    "                node_interest = np.setdiff1d(node_children, visited)\n",
    "                num_leaves = tree.get_num_leaves(node_interest[0])\n",
    "                node_branch_len = 2 * tree.time(u) * num_leaves\n",
    "                coalescence_time = coalescence_time + node_branch_len\n",
    "    return(coalescence_time/(sample_size * (sample_size-1)))"
   ]
  },
  {
   "cell_type": "code",
   "execution_count": 43,
   "metadata": {},
   "outputs": [
    {
     "name": "stdout",
     "output_type": "stream",
     "text": [
      "mean T2: 1807.6380399999998\n"
     ]
    }
   ],
   "source": [
    "pairwise_coaltimes = []\n",
    "for i in range(1, 101):\n",
    "    pairwise_coaltime = []\n",
    "    ts_file = f'data/slim/bgs_Bscore/bgs_BscoreN5000_rep{i}.trees'\n",
    "    ts_full = pyslim.load(ts_file).simplify()\n",
    "    for j in range(1, 1001):\n",
    "        keep_indivs = np.random.choice(ts_full.individuals_alive_at(0),\n",
    "                                       1,\n",
    "                                       replace=False)\n",
    "        keep_nodes = []\n",
    "        for i in keep_indivs:\n",
    "            keep_nodes.extend(ts_full.individual(i).nodes)\n",
    "        ts = ts_full.simplify(keep_nodes)\n",
    "        # pairwise coalescent time\n",
    "        tree = ts.first()\n",
    "        try:\n",
    "            pairwise_coaltime.append(tree.time(tree.root))\n",
    "        except:\n",
    "            pass\n",
    "    pairwise_coaltimes.append(np.array(pairwise_coaltime).mean() / 2)\n",
    "    \n",
    "pairwise_coaltimes = np.array(pairwise_coaltimes)\n",
    "print(f'mean T2: {pairwise_coaltimes.mean()}')\n",
    "B_coal = pairwise_coaltimes.mean() / 5000\n",
    "std_B_coal = pairwise_coaltimes.std() / 5000"
   ]
  },
  {
   "cell_type": "code",
   "execution_count": 44,
   "metadata": {},
   "outputs": [
    {
     "name": "stdout",
     "output_type": "stream",
     "text": [
      "0.36152760799999994\n",
      "0.17346037335841732\n"
     ]
    }
   ],
   "source": [
    "print(B_coal)\n",
    "print(std_B_coal)"
   ]
  }
 ],
 "metadata": {
  "kernelspec": {
   "display_name": "Python 3",
   "language": "python",
   "name": "python3"
  },
  "language_info": {
   "codemirror_mode": {
    "name": "ipython",
    "version": 3
   },
   "file_extension": ".py",
   "mimetype": "text/x-python",
   "name": "python",
   "nbconvert_exporter": "python",
   "pygments_lexer": "ipython3",
   "version": "3.8.3"
  }
 },
 "nbformat": 4,
 "nbformat_minor": 4
}
