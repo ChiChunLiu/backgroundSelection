{
 "cells": [
  {
   "cell_type": "markdown",
   "metadata": {},
   "source": [
    "### Non-equilibrium Demography"
   ]
  },
  {
   "cell_type": "code",
   "execution_count": 1,
   "metadata": {},
   "outputs": [],
   "source": [
    "import subprocess, msprime, pyslim, tskit, os, matplotlib, pickle, random, dadi\n",
    "import matplotlib.pyplot as plt\n",
    "import matplotlib.cm as cm\n",
    "import matplotlib.colors as mcol\n",
    "import numpy as np\n",
    "import pandas as pd\n",
    "import dadi.DFE as DFE\n",
    "from dadi.DFE import *\n",
    "from scipy import stats\n",
    "from dadi import *\n",
    "from scipy.stats import norm"
   ]
  },
  {
   "cell_type": "code",
   "execution_count": 2,
   "metadata": {},
   "outputs": [],
   "source": [
    "os.chdir('/project2/jnovembre/ccliu/backgroundSelection')"
   ]
  },
  {
   "cell_type": "code",
   "execution_count": 16,
   "metadata": {
    "jupyter": {
     "source_hidden": true
    }
   },
   "outputs": [],
   "source": [
    "# demographic models for dadi\n",
    "def constant_size(params, ns, pts):\n",
    "    gamma = params[0]\n",
    "\n",
    "    xx = Numerics.default_grid(pts)\n",
    "    phi = PhiManip.phi_1D(xx, gamma=gamma)\n",
    "\n",
    "    fs = Spectrum.from_phi(phi, ns, (xx,))\n",
    "    return fs\n",
    "\n",
    "def three_epoch(params, ns, pts):\n",
    "\n",
    "    nuB,nuF,TB,TF,gamma = params\n",
    "\n",
    "    xx = Numerics.default_grid(pts)\n",
    "    phi = PhiManip.phi_1D(xx, gamma=gamma)\n",
    "\n",
    "    phi = Integration.one_pop(phi, xx, TB, nuB, gamma = gamma)\n",
    "    phi = Integration.one_pop(phi, xx, TF, nuF, gamma = gamma)\n",
    "\n",
    "    fs = Spectrum.from_phi(phi, ns, (xx,))\n",
    "    return fs\n",
    "\n",
    "def normal2(xx, mu):\n",
    "    '''\n",
    "    normal distribution for inferring fixed gamma\n",
    "    '''\n",
    "    return norm.pdf(xx, loc=mu, scale=2.5)\n",
    "\n",
    "# functions for obtaining SFS from ts files\n",
    "def allele_counts(ts, sample_sets=None):\n",
    "    if sample_sets is None:\n",
    "        sample_sets = [ts.samples()]\n",
    "    def f(x):\n",
    "        return x\n",
    "    return ts.sample_count_stat(sample_sets, f, len(sample_sets),\n",
    "               span_normalise=False, windows='sites',\n",
    "               polarised=True, mode='site', strict=False)\n",
    "\n",
    "\n",
    "def get_del_afss(ts_file, sample_size = None):\n",
    "    if sample_size:\n",
    "        ts = pyslim.load(ts_file).simplify()\n",
    "        keep_indivs = np.random.choice(ts.individuals_alive_at(0), \n",
    "                                       sample_size, replace=False)\n",
    "        keep_nodes = []\n",
    "        for i in keep_indivs:\n",
    "            keep_nodes.extend(ts.individual(i).nodes)\n",
    "        ts = ts.simplify(keep_nodes)\n",
    "\n",
    "    mut_type = np.zeros(ts.num_sites)\n",
    "    for j, s in enumerate(ts.sites()):\n",
    "        mt = []\n",
    "        for m in s.mutations:\n",
    "            for md in m.metadata:\n",
    "                mt.append(md.mutation_type)\n",
    "        if len(set(mt)) > 1:\n",
    "            mut_type[j] = 4\n",
    "        else:\n",
    "            mut_type[j] = mt[0]\n",
    "\n",
    "    freqs = allele_counts(ts)\n",
    "    l = len(ts.samples())\n",
    "    freqs = freqs.flatten().astype(int)\n",
    "    mut_afs = np.zeros((l + 1, 4), dtype='int64')\n",
    "    for k in range(4):\n",
    "        mut_afs[:, k] = np.bincount(freqs[mut_type == k+1], \n",
    "                                    minlength=l + 1)\n",
    "    \n",
    "    return mut_afs[:(2 * sample_size) + 1, 2]\n",
    "\n",
    "\n",
    "\n",
    "def PReFerSim_popsfs2array(file, n):\n",
    "    '''\n",
    "    read PReFerSim sfs output as numpy array\n",
    "    '''\n",
    "    sfs = np.zeros(n + 1)\n",
    "    with open(file, 'r') as f:\n",
    "        line = f.readline()\n",
    "        line = line.strip().split('\\t')\n",
    "    for l in line:\n",
    "        freq, n = l.split('/')\n",
    "        n = int(n)\n",
    "        freq = int(freq)\n",
    "        sfs[freq] = n\n",
    "    \n",
    "    return sfs\n",
    "\n",
    "def infer_gamma_from_prf(file_temp, spectra_temp, theta_ns=250., mask=False):\n",
    "    '''\n",
    "    file: afs file template string\n",
    "    spectra: dadi cached spectra file template string\n",
    "    max_cut: maximum value for SFS truncation\n",
    "    '''\n",
    "    \n",
    "    reps = range(1, 21)\n",
    "    \n",
    "    res = []\n",
    "    if mask:\n",
    "        for i in reps:\n",
    "            for m in range(1, 16):\n",
    "                data = PReFerSim_popsfs2array(file_temp.format(i), 1000)\n",
    "                data = dadi.Spectrum(data)\n",
    "                data.mask[:(m + 1)] = True\n",
    "                data.mask[-(m + 1):] = True\n",
    "                spectra = pickle.load(open(spectra_temp,'rb'))\n",
    "\n",
    "                sel_params = [20.]\n",
    "                lower_bound, upper_bound = [1], [300.]\n",
    "                p0 = dadi.Misc.perturb_params(sel_params, lower_bound=lower_bound,\n",
    "                                              upper_bound=upper_bound)\n",
    "                popt = dadi.Inference.optimize_log(p0, data, spectra.integrate, pts=None,\n",
    "                                                  func_args=[normal2, theta_ns],\n",
    "                                                  lower_bound=lower_bound, upper_bound=upper_bound, \n",
    "                                                  verbose=0, maxiter=100, multinom=False)[0]\n",
    "                res.append((m,popt))\n",
    "    else:   \n",
    "        for i in reps:\n",
    "            data = PReFerSim_popsfs2array(file_temp.format(i), 1000)\n",
    "            data = dadi.Spectrum(data)\n",
    "\n",
    "            spectra = pickle.load(open(spectra_temp,'rb'))\n",
    "\n",
    "            sel_params = [150.]\n",
    "            lower_bound, upper_bound = [1], [300.]\n",
    "            p0 = dadi.Misc.perturb_params(sel_params, lower_bound=lower_bound,\n",
    "                                          upper_bound=upper_bound)\n",
    "            popt = dadi.Inference.optimize_log(p0, data, spectra.integrate, pts=None,\n",
    "                                              func_args=[normal2, theta_ns],\n",
    "                                              lower_bound=lower_bound, upper_bound=upper_bound, \n",
    "                                              verbose=0, maxiter=100, multinom=False)[0]\n",
    "            res.append(popt)\n",
    "    return res\n",
    "\n",
    "def infer_gamma_from_ts(file_temp, spectra_temp, theta_ns=250., var='sample_size', max_cutoff=0):\n",
    "    '''\n",
    "    file: afs file template string\n",
    "    spectra: dadi cached spectra file template string\n",
    "    max_cut: maximum value for SFS truncation\n",
    "    '''\n",
    "    \n",
    "    assert var in ['sample_size', 'threshold']\n",
    "    \n",
    "    res = []\n",
    "    if var == 'sample_size':\n",
    "        for i in range(1, 21):\n",
    "            for s in range(5, 51, 5):\n",
    "                del_afs = get_del_afss(file_temp.format(i), sample_size = s)\n",
    "\n",
    "                spectra = pickle.load(open(spectra_temp.format(int(2 * s)),'rb'))\n",
    "                data = dadi.Spectrum(del_afs)\n",
    "\n",
    "                sel_params = [20.]\n",
    "                lower_bound, upper_bound = [1], [300.]\n",
    "                p0 = dadi.Misc.perturb_params(sel_params, lower_bound=lower_bound,\n",
    "                                              upper_bound=upper_bound)\n",
    "                popt = dadi.Inference.optimize_log(p0, data, spectra.integrate, pts=None,\n",
    "                                                  func_args=[normal2, theta_ns],\n",
    "                                                  lower_bound=lower_bound, upper_bound=upper_bound, \n",
    "                                                  verbose=0, maxiter=100, multinom=False)[0]\n",
    "                res.append((s, popt))\n",
    "                \n",
    "    elif var == 'threshold':\n",
    "        s = 500\n",
    "        for i in range(1, 11):\n",
    "            for m in range(1, max_cutoff + 1):\n",
    "                del_afs = get_del_afss(file_temp.format(i), sample_size = s)\n",
    "\n",
    "                spectra = pickle.load(open(spectra_temp.format(2 * s),'rb'))\n",
    "                data = dadi.Spectrum(del_afs)\n",
    "                data.mask[:(m + 1)] = True\n",
    "                data.mask[-(m + 1):] = True\n",
    "\n",
    "                sel_params = [150.]\n",
    "                lower_bound, upper_bound = [1], [300.]\n",
    "                p0 = dadi.Misc.perturb_params(sel_params, lower_bound=lower_bound,\n",
    "                                              upper_bound=upper_bound)\n",
    "                popt = dadi.Inference.optimize_log(p0, data, spectra.integrate, pts=None,\n",
    "                                                  func_args=[normal2, theta_ns],\n",
    "                                                  lower_bound=lower_bound, upper_bound=upper_bound, \n",
    "                                                  verbose=0, maxiter=100, multinom=False)[0]\n",
    "                res.append((m, popt))\n",
    "                \n",
    "        \n",
    "        \n",
    "    return res"
   ]
  },
  {
   "cell_type": "markdown",
   "metadata": {},
   "source": [
    "## A comparable constant sized population model"
   ]
  },
  {
   "cell_type": "markdown",
   "metadata": {},
   "source": [
    "We first illustrate with a population that went through a bottleneck. 5000 individuals evolve forward through time, and at 5000 (0.5N) generations ago the population went throught a bottleneck of 5000 (0.5N) generations. Since it's a simple demography, we can compute pairwise coalescent time $T_2 = 2289$ (I'm omitting derivations here. I basically just manually doing integrals). This gives us a way to compare non-equilibrium demographies to constant sized populations."
   ]
  },
  {
   "cell_type": "code",
   "execution_count": 4,
   "metadata": {},
   "outputs": [
    {
     "name": "stdout",
     "output_type": "stream",
     "text": [
      "T2 = 2289.00\n"
     ]
    }
   ],
   "source": [
    "T2 = -0.9 * np.exp(-0.5) + 0.9 * np.exp(-5.5) + 1\n",
    "print(f'T2 = {T2 * 5000:.2f}')"
   ]
  },
  {
   "cell_type": "markdown",
   "metadata": {},
   "source": [
    "Of course We can compute T2 from simulation"
   ]
  },
  {
   "cell_type": "code",
   "execution_count": 5,
   "metadata": {},
   "outputs": [],
   "source": [
    "def t2_monte_carlo(file_temp):\n",
    "    pairwise_coaltimes = []\n",
    "    for i in range(1, 101):\n",
    "        pairwise_coaltime = []\n",
    "        ts_file = file_temp.format(i)\n",
    "        ts_full = pyslim.load(ts_file).simplify()\n",
    "        for j in range(1, 501):\n",
    "            keep_indivs = np.random.choice(ts_full.individuals_alive_at(0),\n",
    "                                           1,\n",
    "                                           replace=False)\n",
    "            keep_nodes = []\n",
    "            for i in keep_indivs:\n",
    "                keep_nodes.extend(ts_full.individual(i).nodes)\n",
    "            ts = ts_full.simplify(keep_nodes)\n",
    "            # pairwise coalescent time\n",
    "            tree = ts.first()\n",
    "            try:\n",
    "                pairwise_coaltime.append(tree.time(tree.root))\n",
    "            except:\n",
    "                pass\n",
    "        pairwise_coaltimes.append(np.array(pairwise_coaltime).mean() / 2)\n",
    "\n",
    "    pairwise_coaltimes = np.array(pairwise_coaltimes)\n",
    "    return  pairwise_coaltimes"
   ]
  },
  {
   "cell_type": "code",
   "execution_count": 10,
   "metadata": {},
   "outputs": [],
   "source": [
    "file_temp = 'data/slim/bgs_3classes_noneq/bgs_3classes_bottleneck_N500rep{}.trees'\n",
    "t2 = t2_monte_carlo(file_temp)"
   ]
  },
  {
   "cell_type": "code",
   "execution_count": 15,
   "metadata": {},
   "outputs": [
    {
     "name": "stdout",
     "output_type": "stream",
     "text": [
      "T2 from simulation = 2300.07\n"
     ]
    }
   ],
   "source": [
    "print(f'T2 from simulation = {t2.mean():.2f}')"
   ]
  },
  {
   "cell_type": "markdown",
   "metadata": {},
   "source": [
    "### Inferring $\\gamma$"
   ]
  },
  {
   "cell_type": "markdown",
   "metadata": {},
   "source": [
    "We first show that we recover $\\gamma$ accurately under PRF (a model without BGS since all sites are unlinked). Datasets are simulated using PReFerSim."
   ]
  },
  {
   "cell_type": "code",
   "execution_count": 15,
   "metadata": {},
   "outputs": [],
   "source": [
    "spectra = pickle.load(open('output/bottleneck_spectra_theta250_n1000.bpkl','rb'))\n",
    "demog_params = [0.1, 1, 0.5, 0.5]\n",
    "theta_ns = 250.\n",
    "ns = [1000]"
   ]
  },
  {
   "cell_type": "code",
   "execution_count": 23,
   "metadata": {},
   "outputs": [],
   "source": [
    "res = infer_gamma_from_prf('data/PReFerSim/bottleneck/Output.{}.sfs_out.txt',\n",
    "                           'output/bottleneck_spectra_theta250_n1000.bpkl')"
   ]
  },
  {
   "cell_type": "markdown",
   "metadata": {},
   "source": [
    "Here we show a histogram of inferred $\\gamma$ from 100 replicates with true $\\gamma$ being 100 "
   ]
  },
  {
   "cell_type": "code",
   "execution_count": 27,
   "metadata": {},
   "outputs": [
    {
     "data": {
      "text/plain": [
       "<matplotlib.lines.Line2D at 0x7f5e5397f760>"
      ]
     },
     "execution_count": 27,
     "metadata": {},
     "output_type": "execute_result"
    },
    {
     "data": {
      "image/png": "[encoded data removed]",
      "text/plain": [
       "<Figure size 432x288 with 1 Axes>"
      ]
     },
     "metadata": {
      "needs_background": "light"
     },
     "output_type": "display_data"
    }
   ],
   "source": [
    "plt.hist(res, bins=10, color='c', edgecolor='k', alpha=0.65)\n",
    "plt.axvline(np.array(res).mean(), color='k', linestyle='dashed', linewidth=1)\n",
    "plt.axvline(100, color='b', linestyle='dashed', linewidth=1)"
   ]
  },
  {
   "cell_type": "markdown",
   "metadata": {},
   "source": [
    "\n",
    "We now follow similar steps showing bias in inferring $\\gamma$. from SLiM simulation We compare results of bottleneck to an \"equivalent\" constant-size population model."
   ]
  },
  {
   "cell_type": "raw",
   "metadata": {},
   "source": [
    "# WARNING: Do not run this block! It's solely for a documentation purpose.\n",
    "demog_params = [0.1, 1, 0.5, 0.5]\n",
    "theta_ns = 250.\n",
    "ns = [1000]\n",
    "\n",
    "scale = 20\n",
    "# Integrate over a range of gamma\n",
    "pts_l = [960 * scale, 1280 * scale, 1600 * scale]\n",
    "spectra = DFE.Cache1D(demog_params,\n",
    "                      ns,\n",
    "                      three_epoch,\n",
    "                      pts_l=pts_l,\n",
    "                      gamma_bounds=(1e-5, 1000),\n",
    "                      gamma_pts=2000,\n",
    "                      verbose=True,\n",
    "                      mp=True)\n",
    "pickle.dump(spectra, open('bottleneck_spectra_theta250.bpkl','wb'))"
   ]
  },
  {
   "cell_type": "code",
   "execution_count": 19,
   "metadata": {},
   "outputs": [],
   "source": [
    "# constant size population\n",
    "file = 'data/slim/bgs_3classes/bgs_3classes_N2289_rep{}.trees'\n",
    "spectra = 'output/constant_spectra_theta250_n{}.bpkl'\n",
    "res_const = infer_gamma_from_ts(file_temp=file, spectra_temp=spectra, theta_ns=114.45, var='threshold', max_cutoff=30)"
   ]
  },
  {
   "cell_type": "code",
   "execution_count": 13,
   "metadata": {},
   "outputs": [],
   "source": [
    "# bottleneck\n",
    "file = 'data/slim/bgs_3classes_noneq/bgs_3classes_bottleneck.3classes.N500rep{}.trees'\n",
    "spectra = 'output/bottleneck_spectra_theta250_n{}.bpkl'\n",
    "res = infer_gamma_from_ts(file_temp=file, spectra_temp=spectra, theta_ns=250, var='threshold', max_cutoff=30)"
   ]
  },
  {
   "cell_type": "code",
   "execution_count": 14,
   "metadata": {},
   "outputs": [
    {
     "name": "stdout",
     "output_type": "stream",
     "text": [
      "B =  0.36787944117144233\n",
      "Ne x s =  84.20760408414316\n"
     ]
    }
   ],
   "source": [
    "N = 2289\n",
    "mu = 6.25 * 1e-7\n",
    "l = 5e5\n",
    "Ud = mu * l * 4/25\n",
    "\n",
    "s = -0.1\n",
    "B = np.exp(Ud / s * 2)\n",
    "print(f'B =  {B}')\n",
    "print(f'Ne x s =  {- N * B * s}')"
   ]
  },
  {
   "cell_type": "code",
   "execution_count": 24,
   "metadata": {},
   "outputs": [
    {
     "data": {
      "image/png": "[encoded data removed]",
      "text/plain": [
       "<Figure size 360x288 with 1 Axes>"
      ]
     },
     "metadata": {
      "needs_background": "light"
     },
     "output_type": "display_data"
    }
   ],
   "source": [
    "s_focal = -0.02\n",
    "plt.figure(figsize=(5, 4))\n",
    "plt.scatter([r[0] for r in res], [- r[1] for r in res], label = 'bottleneck')\n",
    "plt.scatter([r[0] for r in res_const], [- r[1] for r in res_const], label = 'N=2289')\n",
    "plt.xlabel(\"number of cutoff entries\")\n",
    "plt.ylabel(\"inferred gamma\")\n",
    "plt.ylim(-150, -5)\n",
    "plt.legend(loc='lower right')\n",
    "plt.axhline(y = 2 * N * s_focal * B , color='g', linestyle='-')\n",
    "plt.show()"
   ]
  }
 ],
 "metadata": {
  "kernelspec": {
   "display_name": "Python 3",
   "language": "python",
   "name": "python3"
  },
  "language_info": {
   "codemirror_mode": {
    "name": "ipython",
    "version": 3
   },
   "file_extension": ".py",
   "mimetype": "text/x-python",
   "name": "python",
   "nbconvert_exporter": "python",
   "pygments_lexer": "ipython3",
   "version": "3.8.3"
  }
 },
 "nbformat": 4,
 "nbformat_minor": 4
}
