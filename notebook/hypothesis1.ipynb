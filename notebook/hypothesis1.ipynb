{
 "cells": [
  {
   "cell_type": "code",
   "execution_count": 2,
   "metadata": {},
   "outputs": [
    {
     "name": "stdout",
     "output_type": "stream",
     "text": [
      "[-0.10913566679372916, -0.19576151889712176, -0.4481420117724551, -0.9491221581029905]\n"
     ]
    }
   ],
   "source": [
    "mu = 6.25 * 1e-7\n",
    "l = 5e5\n",
    "Ud = mu * l * 4/25\n",
    "Bs = [0.4, 0.6, 0.8, 0.9]\n",
    "ss_bgs = [2 * Ud / np.log(B) for B in Bs] # selection coeffs for bgs\n",
    "print(ss_bgs)"
   ]
  },
  {
   "cell_type": "code",
   "execution_count": 1,
   "metadata": {},
   "outputs": [],
   "source": [
    "import subprocess, msprime, pyslim, tskit, os, matplotlib, pickle, random, dadi\n",
    "import matplotlib.pyplot as plt\n",
    "import matplotlib.cm as cm\n",
    "import matplotlib.colors as mcol\n",
    "import numpy as np\n",
    "import pandas as pd\n",
    "import dadi.DFE as DFE\n",
    "from dadi.DFE import *\n",
    "from scipy import stats\n",
    "from dadi import *\n",
    "from scipy.stats import norm"
   ]
  },
  {
   "cell_type": "code",
   "execution_count": 2,
   "metadata": {},
   "outputs": [],
   "source": [
    "os.chdir('/project2/jnovembre/ccliu/backgroundSelection')"
   ]
  },
  {
   "cell_type": "markdown",
   "metadata": {},
   "source": [
    "## Hypothesis 1\n",
    "### The presence of background selection biases estimates of $\\gamma$, towards more negative values.\n",
    "\n",
    "The effect of BGS is often approximated with reduction in population sizes. However, BGS also distorts the shape at the ends of allele frequency spectrum (Cvijovic 2018). This distortion biases estimates of $\\gamma$. This bias is stronger with larger sample size because we are sampling more rare alleles. In this notebook we verify this hypothesis with simulations."
   ]
  },
  {
   "cell_type": "markdown",
   "metadata": {},
   "source": [
    "## Simulation set-up\n",
    "\n",
    "We simulate constant-sized populations (N = 5000, diploid) under BGS from SLiM, and each genome is of length $l = 500kb$. There are three classes of mutations with ratio 4 to 1 to 20.\n",
    "1. Deleterious mutations with s=-0.1 generating background selection (16%)\n",
    "2. Weakly deleterious mutations with s=-0.02 (and a lower mutation rate) for inferring $\\gamma$ (4%)\n",
    "3. Nuetral mutation (80%)  \n",
    "\n",
    "The total mutation rate is set to $\\mu = 6.25 \\times 10^{-7}$.  \n",
    "\n",
    "We are ignoring BGS generated from the second mutation class. The first mutation class generates BGS of approximately strength $B = e^{2U_d / s}$ (The factor 2 here is due to paramatrization of SLiM: 1, h(1+sh), 1+s, compared to the more oftenly used 1, 1-2hs, 1-2s), where $U_d = \\mu \\times 4/25 \\times l$.\n",
    "\n"
   ]
  },
  {
   "cell_type": "code",
   "execution_count": 3,
   "metadata": {},
   "outputs": [
    {
     "name": "stdout",
     "output_type": "stream",
     "text": [
      "B =  0.36787944117144233\n",
      "Ne x s =  183.93972058572118\n"
     ]
    }
   ],
   "source": [
    "N = 5000\n",
    "mu = 6.25 * 1e-7\n",
    "l = 5e5\n",
    "Ud = mu * l * 4/25\n",
    "\n",
    "s = -0.1\n",
    "B = np.exp(Ud / s * 2)\n",
    "print(f'B =  {B}')\n",
    "print(f'Ne x s =  {- N * B * s}')"
   ]
  },
  {
   "cell_type": "markdown",
   "metadata": {},
   "source": [
    "### Varying sample size\n",
    "Here we are showing that the negative bias of inferred $\\gamma$ increases with larger sample size. We use $\\partial a \\partial i$ for inference. Below are paramatrization of fitness. \n",
    " - $\\partial a \\partial i$: 1, 1+2sh, and 1+2s  \n",
    " - SLiM: 1, h(1+sh), 1+s  \n",
    "\n",
    "We simulate 100 replicates and for each replicate we resample 10-500 individuals to form sample frequency spectrum, which is fed into the $\\partial a \\partial i$ framework"
   ]
  },
  {
   "cell_type": "raw",
   "metadata": {},
   "source": [
    "SLiM code (script/slim/bgs_3classes_standard)\n",
    "initialize() {\n",
    "         initializeTreeSeq();\n",
    "         initializeMutationRate(1e-7 * 25/4);\n",
    "         initializeMutationType(\"m1\", 0.5, \"f\", -0.1);\n",
    "         initializeMutationType(\"m2\", 0.5, \"f\", 0);\n",
    "         initializeMutationType(\"m3\", 0.5, \"f\", -0.02);\n",
    "         initializeGenomicElementType(\"g1\", c(m1, m2, m3), c(4, 20, 1));\n",
    "         initializeGenomicElement(g1, 0, 5e5-1);\n",
    "         initializeRecombinationRate(0);\n",
    "}\n",
    "1{\n",
    "         sim.addSubpop(\"p1\", N);\n",
    "         sim.rescheduleScriptBlock(s1, start=10*N, end=10*N);\n",
    "}\n",
    "s1 1000 late() {\n",
    "         sim.treeSeqOutput(\"../../../data/slim/bgs_3classes/bgs_3classes_N\" + N  + \"_rep\" + rep + \".trees\");\n",
    "}"
   ]
  },
  {
   "cell_type": "code",
   "execution_count": 4,
   "metadata": {
    "jupyter": {
     "source_hidden": true
    }
   },
   "outputs": [],
   "source": [
    "# functions for obtaining SFS from ts files\n",
    "def allele_counts(ts, sample_sets=None):\n",
    "    if sample_sets is None:\n",
    "        sample_sets = [ts.samples()]\n",
    "    def f(x):\n",
    "        return x\n",
    "    return ts.sample_count_stat(sample_sets, f, len(sample_sets),\n",
    "               span_normalise=False, windows='sites',\n",
    "               polarised=True, mode='site', strict=False)\n",
    "\n",
    "\n",
    "def get_del_afss(ts_file, sample_size = None):\n",
    "    if sample_size:\n",
    "        ts = pyslim.load(ts_file).simplify()\n",
    "        keep_indivs = np.random.choice(ts.individuals_alive_at(0), \n",
    "                                       sample_size, replace=False)\n",
    "        keep_nodes = []\n",
    "        for i in keep_indivs:\n",
    "            keep_nodes.extend(ts.individual(i).nodes)\n",
    "        ts = ts.simplify(keep_nodes)\n",
    "\n",
    "    mut_type = np.zeros(ts.num_sites)\n",
    "    for j, s in enumerate(ts.sites()):\n",
    "        mt = []\n",
    "        for m in s.mutations:\n",
    "            for md in m.metadata:\n",
    "                mt.append(md.mutation_type)\n",
    "        if len(set(mt)) > 1:\n",
    "            mut_type[j] = 4\n",
    "        else:\n",
    "            mut_type[j] = mt[0]\n",
    "\n",
    "    freqs = allele_counts(ts)\n",
    "    l = len(ts.samples())\n",
    "    freqs = freqs.flatten().astype(int)\n",
    "    mut_afs = np.zeros((l + 1, 4), dtype='int64')\n",
    "    for k in range(4):\n",
    "        mut_afs[:, k] = np.bincount(freqs[mut_type == k+1], \n",
    "                                    minlength=l + 1)\n",
    "    \n",
    "    return mut_afs[:(2 * sample_size) + 1, 2]\n",
    "\n",
    "\n",
    "# demographic models for dadi\n",
    "def constant_size(params, ns, pts):\n",
    "    gamma = params[0]\n",
    "\n",
    "    xx = Numerics.default_grid(pts)\n",
    "    phi = PhiManip.phi_1D(xx, gamma=gamma)\n",
    "\n",
    "    fs = Spectrum.from_phi(phi, ns, (xx,))\n",
    "    return fs\n",
    "\n",
    "# dfe for fixed gamma\n",
    "def normal2(xx, mu):\n",
    "    '''\n",
    "    normal distribution for inferring fixed gamma\n",
    "    '''\n",
    "    return norm.pdf(xx, loc=mu, scale=2.5)\n",
    "\n",
    "def infer_gamma_from_ts(file_temp, spectra_temp, theta_ns=250., var='sample_size', max_cutoff=0):\n",
    "    '''\n",
    "    file: afs file template string\n",
    "    spectra: dadi cached spectra file template string\n",
    "    max_cut: maximum value for SFS truncation\n",
    "    '''\n",
    "    \n",
    "    assert var in ['sample_size', 'threshold']\n",
    "    \n",
    "    res = []\n",
    "    if var == 'sample_size':\n",
    "        for i in range(1, 21):\n",
    "            for s in range(5, 51, 5):\n",
    "                del_afs = get_del_afss(file_temp.format(i), sample_size = s)\n",
    "\n",
    "                spectra = pickle.load(open(spectra_temp.format(int(2 * s)),'rb'))\n",
    "                data = dadi.Spectrum(del_afs)\n",
    "\n",
    "                sel_params = [20.]\n",
    "                lower_bound, upper_bound = [1], [300.]\n",
    "                p0 = dadi.Misc.perturb_params(sel_params, lower_bound=lower_bound,\n",
    "                                              upper_bound=upper_bound)\n",
    "                popt = dadi.Inference.optimize_log(p0, data, spectra.integrate, pts=None,\n",
    "                                                  func_args=[normal2, theta_ns],\n",
    "                                                  lower_bound=lower_bound, upper_bound=upper_bound, \n",
    "                                                  verbose=0, maxiter=100, multinom=False)[0]\n",
    "                res.append((s, popt))\n",
    "                \n",
    "    elif var == 'threshold':\n",
    "        s = 460\n",
    "        for i in range(1, 6):\n",
    "            for m in range(1, max_cutoff + 1):\n",
    "                del_afs = get_del_afss(file_temp.format(i), sample_size = s)\n",
    "\n",
    "                spectra = pickle.load(open(spectra_temp.format(2 * s),'rb'))\n",
    "                data = dadi.Spectrum(del_afs)\n",
    "                data.mask[:(m + 1)] = True\n",
    "                data.mask[-(m + 1):] = True\n",
    "\n",
    "                sel_params = [150.]\n",
    "                lower_bound, upper_bound = [1], [300.]\n",
    "                p0 = dadi.Misc.perturb_params(sel_params, lower_bound=lower_bound,\n",
    "                                              upper_bound=upper_bound)\n",
    "                popt = dadi.Inference.optimize_log(p0, data, spectra.integrate, pts=None,\n",
    "                                                  func_args=[normal2, theta_ns],\n",
    "                                                  lower_bound=lower_bound, upper_bound=upper_bound, \n",
    "                                                  verbose=0, maxiter=100, multinom=False)[0]\n",
    "                res.append((m, popt))\n",
    "                \n",
    "        \n",
    "        \n",
    "    return res\n",
    "\n"
   ]
  },
  {
   "cell_type": "code",
   "execution_count": 23,
   "metadata": {},
   "outputs": [
    {
     "data": {
      "text/plain": [
       "'sss.txt'"
      ]
     },
     "execution_count": 23,
     "metadata": {},
     "output_type": "execute_result"
    }
   ],
   "source": [
    "# f-string\n",
    "s = 'sss'\n",
    "f'{s}.txt'"
   ]
  },
  {
   "cell_type": "code",
   "execution_count": 25,
   "metadata": {},
   "outputs": [
    {
     "data": {
      "text/plain": [
       "'xy.txt'"
      ]
     },
     "execution_count": 25,
     "metadata": {},
     "output_type": "execute_result"
    }
   ],
   "source": [
    "sss = '{0}{1}.txt'\n",
    "sss.format('x', 'y')"
   ]
  },
  {
   "cell_type": "code",
   "execution_count": 7,
   "metadata": {},
   "outputs": [],
   "source": [
    "\n",
    "def infer_gamma_from_ts(file_temp, spectra_temp, theta_ns=250., var='sample_size', max_cutoff=0):\n",
    "    '''\n",
    "    file: afs file template string\n",
    "    spectra: dadi cached spectra file template string\n",
    "    max_cut: maximum value for SFS truncation\n",
    "    '''\n",
    "    \n",
    "    assert var in ['sample_size', 'threshold']\n",
    "    \n",
    "    res = []\n",
    "    if var == 'sample_size':\n",
    "        for i in range(1, 101):\n",
    "            for s in range(10, 411, 400):\n",
    "                del_afs = get_del_afss(file_temp.format(i), sample_size = s)\n",
    "\n",
    "                spectra = pickle.load(open(spectra_temp.format(int(2 * s)),'rb'))\n",
    "                data = dadi.Spectrum(del_afs)\n",
    "\n",
    "                sel_params = [20.]\n",
    "                lower_bound, upper_bound = [1], [300.]\n",
    "                p0 = dadi.Misc.perturb_params(sel_params, lower_bound=lower_bound,\n",
    "                                              upper_bound=upper_bound)\n",
    "                popt = dadi.Inference.optimize_log(p0, data, spectra.integrate, pts=None,\n",
    "                                                  func_args=[normal2, theta_ns],\n",
    "                                                  lower_bound=lower_bound, upper_bound=upper_bound, \n",
    "                                                  verbose=0, maxiter=100, multinom=False)[0]\n",
    "                res.append((s, popt))\n",
    "                \n",
    "    elif var == 'threshold':\n",
    "        s = 500\n",
    "        for i in range(1, 6):\n",
    "            for m in range(1, max_cutoff + 1):\n",
    "                del_afs = get_del_afss(file_temp.format(i), sample_size = s)\n",
    "\n",
    "                spectra = pickle.load(open(spectra_temp.format(2 * s),'rb'))\n",
    "                data = dadi.Spectrum(del_afs)\n",
    "                data.mask[:(m + 1)] = True\n",
    "                data.mask[-(m + 1):] = True\n",
    "\n",
    "                sel_params = [150.]\n",
    "                lower_bound, upper_bound = [1], [300.]\n",
    "                p0 = dadi.Misc.perturb_params(sel_params, lower_bound=lower_bound,\n",
    "                                              upper_bound=upper_bound)\n",
    "                popt = dadi.Inference.optimize_log(p0, data, spectra.integrate, pts=None,\n",
    "                                                  func_args=[normal2, theta_ns],\n",
    "                                                  lower_bound=lower_bound, upper_bound=upper_bound, \n",
    "                                                  verbose=0, maxiter=100, multinom=False)[0]\n",
    "                res.append((m, popt))\n",
    "                \n",
    "        \n",
    "        \n",
    "    return res"
   ]
  },
  {
   "cell_type": "code",
   "execution_count": 6,
   "metadata": {},
   "outputs": [
    {
     "data": {
      "text/plain": [
       "250"
      ]
     },
     "execution_count": 6,
     "metadata": {},
     "output_type": "execute_result"
    }
   ],
   "source": [
    "theta = round(4 * N * mu * l * 1/25)\n",
    "theta"
   ]
  },
  {
   "cell_type": "markdown",
   "metadata": {},
   "source": [
    "Here is an example $\\partial d a \\partial d i$'s MLE inference. I'm plotting the likelihood surface."
   ]
  },
  {
   "cell_type": "code",
   "execution_count": 56,
   "metadata": {},
   "outputs": [],
   "source": [
    "i = 1 # rep1\n",
    "s = 460 # n = 420\n",
    "\n",
    "spectra_temp = 'output/constant_spectra_theta250_n{}.bpkl'\n",
    "spectra = pickle.load(open(spectra_temp.format(2 * s),'rb'))\n",
    "\n",
    "file_temp = 'data/slim/bgs_3classes/bgs_3classes_N5000_rep{}.trees'\n",
    "del_afs = get_del_afss(file_temp.format(i), sample_size = s)\n",
    "data = dadi.Spectrum(del_afs)"
   ]
  },
  {
   "cell_type": "code",
   "execution_count": 57,
   "metadata": {},
   "outputs": [
    {
     "data": {
      "image/png": "[encoded data removed]",
      "text/plain": [
       "<Figure size 432x288 with 1 Axes>"
      ]
     },
     "metadata": {
      "needs_background": "light"
     },
     "output_type": "display_data"
    }
   ],
   "source": [
    "alphas = range(5, 300, 2)\n",
    "res = []\n",
    "for a in alphas:\n",
    "    model_sfs = spectra.integrate([a], None, normal2, theta, None)\n",
    "    ll = dadi.Inference.ll(model_sfs, data)\n",
    "    res.append((a,ll))\n",
    "res = list(zip(*res))\n",
    "plt.plot(res[0], res[1], '-')\n",
    "plt.xlabel(\"gamma\")\n",
    "plt.ylabel(\"log likelihood\")\n",
    "plt.show()"
   ]
  },
  {
   "cell_type": "markdown",
   "metadata": {},
   "source": [
    "Now we infer $\\gamma$ with increasing sample sizes, from 10 to 500 (diploid) individuals."
   ]
  },
  {
   "cell_type": "code",
   "execution_count": null,
   "metadata": {},
   "outputs": [],
   "source": [
    "file_temp = 'data/slim/bgs_3classes/bgs_3classes_N5000_rep{}.trees'\n",
    "spectra_temp = 'output/constant_spectra_theta250_n{}.bpkl'\n",
    "res = infer_gamma_from_ts(file_temp=file_temp, spectra_temp=spectra_temp, theta_ns=250)\n",
    "res_df = pd.DataFrame(res, columns =['sample_size', 'gamma']) "
   ]
  },
  {
   "cell_type": "code",
   "execution_count": 34,
   "metadata": {},
   "outputs": [
    {
     "data": {
      "text/html": [
       "<div>\n",
       "<style scoped>\n",
       "    .dataframe tbody tr th:only-of-type {\n",
       "        vertical-align: middle;\n",
       "    }\n",
       "\n",
       "    .dataframe tbody tr th {\n",
       "        vertical-align: top;\n",
       "    }\n",
       "\n",
       "    .dataframe thead th {\n",
       "        text-align: right;\n",
       "    }\n",
       "</style>\n",
       "<table border=\"1\" class=\"dataframe\">\n",
       "  <thead>\n",
       "    <tr style=\"text-align: right;\">\n",
       "      <th></th>\n",
       "      <th>gamma</th>\n",
       "    </tr>\n",
       "    <tr>\n",
       "      <th>sample_size</th>\n",
       "      <th></th>\n",
       "    </tr>\n",
       "  </thead>\n",
       "  <tbody>\n",
       "    <tr>\n",
       "      <th>10</th>\n",
       "      <td>111.180893</td>\n",
       "    </tr>\n",
       "    <tr>\n",
       "      <th>410</th>\n",
       "      <td>105.421037</td>\n",
       "    </tr>\n",
       "  </tbody>\n",
       "</table>\n",
       "</div>"
      ],
      "text/plain": [
       "                  gamma\n",
       "sample_size            \n",
       "10           111.180893\n",
       "410          105.421037"
      ]
     },
     "execution_count": 34,
     "metadata": {},
     "output_type": "execute_result"
    }
   ],
   "source": [
    "res_df.groupby(['sample_size']).mean()"
   ]
  },
  {
   "cell_type": "code",
   "execution_count": 28,
   "metadata": {},
   "outputs": [
    {
     "data": {
      "image/png": "[encoded data removed]",
      "text/plain": [
       "<Figure size 360x288 with 1 Axes>"
      ]
     },
     "metadata": {
      "needs_background": "light"
     },
     "output_type": "display_data"
    }
   ],
   "source": [
    "s = -0.02\n",
    "plt.figure(figsize=(5, 4))\n",
    "plt.scatter([r[0] for r in res], [-2 * r[1] for r in res])\n",
    "plt.xlabel(\"sample size\")\n",
    "plt.ylabel(\"inferred gamma\")\n",
    "plt.axhline(y = N * s * B , color='g', linestyle='-')\n",
    "plt.show()"
   ]
  },
  {
   "cell_type": "code",
   "execution_count": 18,
   "metadata": {},
   "outputs": [],
   "source": [
    "file = 'data/slim/bgs_3classes/bgs_3classes_N5000_rep{}.trees'\n",
    "spectra = 'output/constant_spectra_theta250_n{}.bpkl'\n",
    "res = infer_gamma_from_ts(file_temp=file, spectra_temp=spectra, theta_ns=250, var='threshold', max_cutoff=50)"
   ]
  },
  {
   "cell_type": "code",
   "execution_count": 20,
   "metadata": {},
   "outputs": [
    {
     "data": {
      "image/png": "[encoded data removed]",
      "text/plain": [
       "<Figure size 360x288 with 1 Axes>"
      ]
     },
     "metadata": {
      "needs_background": "light"
     },
     "output_type": "display_data"
    }
   ],
   "source": [
    "s = -0.02\n",
    "plt.figure(figsize=(5, 4))\n",
    "plt.scatter([r[0] for r in res], [- r[1] for r in res])\n",
    "plt.xlabel(\"number of cutoff entries\", fontsize = 15)\n",
    "plt.ylabel(\"inferred gamma\", fontsize = 15)\n",
    "plt.ylim(-150, -5)\n",
    "plt.axhline(y = 2 * N * s * B , color='g', linestyle='-')\n",
    "plt.show()"
   ]
  }
 ],
 "metadata": {
  "kernelspec": {
   "display_name": "Python 3",
   "language": "python",
   "name": "python3"
  },
  "language_info": {
   "codemirror_mode": {
    "name": "ipython",
    "version": 3
   },
   "file_extension": ".py",
   "mimetype": "text/x-python",
   "name": "python",
   "nbconvert_exporter": "python",
   "pygments_lexer": "ipython3",
   "version": "3.8.3"
  }
 },
 "nbformat": 4,
 "nbformat_minor": 4
}
